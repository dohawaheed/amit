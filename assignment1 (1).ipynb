{
 "cells": [
  {
   "cell_type": "code",
   "execution_count": 40,
   "id": "b75ac89c-0a84-439f-84c3-1f9a6d375b75",
   "metadata": {},
   "outputs": [],
   "source": [
    "name=\"doha\""
   ]
  },
  {
   "cell_type": "code",
   "execution_count": 42,
   "id": "1f8eeab8-0939-4341-b244-83c76e79b73d",
   "metadata": {},
   "outputs": [
    {
     "data": {
      "text/plain": [
       "'doha'"
      ]
     },
     "execution_count": 42,
     "metadata": {},
     "output_type": "execute_result"
    }
   ],
   "source": [
    "name[0:4]"
   ]
  },
  {
   "cell_type": "code",
   "execution_count": 44,
   "id": "75a4f032-f0dd-4892-9eb1-84443ba90619",
   "metadata": {},
   "outputs": [
    {
     "data": {
      "text/plain": [
       "' My age is 21 and my height is 175 and yes i have a pet.'"
      ]
     },
     "execution_count": 44,
     "metadata": {},
     "output_type": "execute_result"
    }
   ],
   "source": [
    "age=21\n",
    "height=175\n",
    "b=\"yes\"\n",
    "(\" My age is {} and my height is {} and {} i have a pet.\".format (age ,height  , b)) "
   ]
  },
  {
   "cell_type": "code",
   "execution_count": 48,
   "id": "09dd8485-a726-4f4a-bff7-6f141a411fb1",
   "metadata": {},
   "outputs": [
    {
     "name": "stdout",
     "output_type": "stream",
     "text": [
      "even\n",
      "odd\n",
      "negative\n"
     ]
    }
   ],
   "source": [
    "k=2\n",
    "m=3\n",
    "s=-1\n",
    "if k%2==0:\n",
    "    print(\"even\")\n",
    "if m%2!=0:\n",
    "    print(\"odd\")\n",
    "if s<0:\n",
    "    print(\"negative\")"
   ]
  },
  {
   "cell_type": "code",
   "execution_count": 81,
   "id": "afa75476-acd5-42ce-99e2-20396ebbc188",
   "metadata": {},
   "outputs": [
    {
     "name": "stdout",
     "output_type": "stream",
     "text": [
      "1\n",
      "2\n",
      "3\n",
      "4\n",
      "5\n",
      "6\n",
      "7\n",
      "8\n",
      "9\n",
      "10\n"
     ]
    }
   ],
   "source": [
    "for i in range(1,11):\n",
    "    print(i)"
   ]
  },
  {
   "cell_type": "code",
   "execution_count": 73,
   "id": "eb9d64df-1099-4663-8081-c2242ffca147",
   "metadata": {},
   "outputs": [
    {
     "name": "stdout",
     "output_type": "stream",
     "text": [
      "2\n",
      "4\n",
      "6\n",
      "8\n",
      "10\n",
      "12\n",
      "14\n",
      "16\n",
      "18\n",
      "20\n"
     ]
    }
   ],
   "source": [
    "for i in range(2,22,2):\n",
    "    print(i)"
   ]
  },
  {
   "cell_type": "code",
   "execution_count": 91,
   "id": "6497ddd6-c385-4176-8d11-7fd406d43a12",
   "metadata": {},
   "outputs": [
    {
     "name": "stdout",
     "output_type": "stream",
     "text": [
      "10\n",
      "9\n",
      "8\n",
      "7\n",
      "6\n",
      "5\n",
      "4\n",
      "3\n",
      "2\n",
      "1\n",
      "Blastoff\n"
     ]
    }
   ],
   "source": [
    "k=10\n",
    "while k>0:\n",
    "    print(k)\n",
    "    k-=1\n",
    "print(\"Blastoff\")"
   ]
  },
  {
   "cell_type": "code",
   "execution_count": 94,
   "id": "926fda7f-66da-4717-86ca-5fce3b16d47b",
   "metadata": {},
   "outputs": [],
   "source": [
    "l=[\"apple\",\"banana\"]"
   ]
  },
  {
   "cell_type": "code",
   "execution_count": 96,
   "id": "78aa6d81-3d2f-4042-ae6a-71464ccd1b29",
   "metadata": {},
   "outputs": [
    {
     "data": {
      "text/plain": [
       "['apple', 'banana']"
      ]
     },
     "execution_count": 96,
     "metadata": {},
     "output_type": "execute_result"
    }
   ],
   "source": [
    "l"
   ]
  },
  {
   "cell_type": "code",
   "execution_count": 109,
   "id": "12aab1e1-78d6-4808-8950-4e55724c8643",
   "metadata": {},
   "outputs": [
    {
     "name": "stdout",
     "output_type": "stream",
     "text": [
      "apple\n",
      "banana\n"
     ]
    }
   ],
   "source": [
    "l=[\"apple\",\"banana\"]\n",
    "for i in l:\n",
    "    print(i)"
   ]
  },
  {
   "cell_type": "code",
   "execution_count": null,
   "id": "2a50bbfa-373e-4eac-88d1-0e8195d18e0a",
   "metadata": {},
   "outputs": [],
   "source": []
  },
  {
   "cell_type": "code",
   "execution_count": 118,
   "id": "2cbd06e7-87f7-43be-be50-8b659199bb4f",
   "metadata": {},
   "outputs": [
    {
     "name": "stdout",
     "output_type": "stream",
     "text": [
      "My age is 21\n",
      "My height is 175\n",
      "i have not False\n"
     ]
    }
   ],
   "source": [
    "age=21\n",
    "height=175\n",
    "has_pet = False\n",
    "print(\"My age is\",age)\n",
    "print(\"My height is\",height)\n",
    "print(\"i have not\",has_pet)"
   ]
  },
  {
   "cell_type": "code",
   "execution_count": null,
   "id": "ef44f79c-fbf3-4094-924b-b22d67ffd3dc",
   "metadata": {},
   "outputs": [],
   "source": []
  }
 ],
 "metadata": {
  "kernelspec": {
   "display_name": "anaconda-2022.05-py39",
   "language": "python",
   "name": "conda-env-anaconda-2022.05-py39-py"
  },
  "language_info": {
   "codemirror_mode": {
    "name": "ipython",
    "version": 3
   },
   "file_extension": ".py",
   "mimetype": "text/x-python",
   "name": "python",
   "nbconvert_exporter": "python",
   "pygments_lexer": "ipython3",
   "version": "3.9.12"
  }
 },
 "nbformat": 4,
 "nbformat_minor": 5
}
