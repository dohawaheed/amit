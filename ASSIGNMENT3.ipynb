{
 "cells": [
  {
   "cell_type": "code",
   "execution_count": 12,
   "id": "81feaee0-a59c-4fcb-9319-748d8510d9fc",
   "metadata": {},
   "outputs": [
    {
     "name": "stdout",
     "output_type": "stream",
     "text": [
      "{'my': 1, 'name': 1, 'is': 1, 'mohammed': 1}\n"
     ]
    }
   ],
   "source": [
    "li=[\"my name is doha\",\"my name is hanan\",\"my name is mohammed\"]\n",
    "\n",
    "def calc(li):\n",
    "    uniqe_words={}\n",
    "    for i in li:\n",
    "        m=i.split()\n",
    "    for k in m:\n",
    "        if k not in uniqe_words:\n",
    "            uniqe_words[k]=0\n",
    "        uniqe_words[k]+=1\n",
    "    print(uniqe_words)\n",
    "calc(li)"
   ]
  },
  {
   "cell_type": "code",
   "execution_count": 28,
   "id": "3ce1e0e3-c220-40bc-b30d-e3e03d13b1c8",
   "metadata": {},
   "outputs": [
    {
     "name": "stdout",
     "output_type": "stream",
     "text": [
      "[1, 4, 2, 3]\n"
     ]
    }
   ],
   "source": [
    "li = [1,2,3,4,5,6,7,8,9]\n",
    "value = 5\n",
    "def calc(li,value):\n",
    "    li2=[]\n",
    "    for i in range(len(li)):\n",
    "        for j in range(i+1,len(li)):\n",
    "            if li[i]+li[j]==value:\n",
    "                li2.append(li[i])\n",
    "                li2.append(li[j])\n",
    "    print(li2)\n",
    "    \n",
    "calc(li,value)"
   ]
  },
  {
   "cell_type": "code",
   "execution_count": 41,
   "id": "1f083e16-0c75-4c4d-ab9d-b880c1e8f7a6",
   "metadata": {},
   "outputs": [
    {
     "name": "stdout",
     "output_type": "stream",
     "text": [
      "9\n",
      "9\n"
     ]
    }
   ],
   "source": [
    "li = [1,2,3,4,5,6,7,8,9]\n",
    "value = -9999\n",
    "def calc(li,value):\n",
    "    li2=[]\n",
    "    \n",
    "    for i in range(len(li)):\n",
    "        for j in range(i+1,len(li)):\n",
    "             v=li[i]*li[j]\n",
    "        if v>value:\n",
    "            value=v\n",
    "        \n",
    "        \n",
    "    \n",
    "    print(li[i])\n",
    "    print(li[j])\n",
    "    \n",
    "calc(li,value)"
   ]
  },
  {
   "cell_type": "code",
   "execution_count": 71,
   "id": "cbb0b1a6-f60b-4493-84fc-5c1c356a2c2a",
   "metadata": {},
   "outputs": [
    {
     "data": {
      "text/plain": [
       "False"
      ]
     },
     "execution_count": 71,
     "metadata": {},
     "output_type": "execute_result"
    }
   ],
   "source": [
    "n=4\n",
    "def calc(n):\n",
    "    if n%1==0:\n",
    "        for i in range(1,9):\n",
    "            if i==n and i%n==0:\n",
    "                return True\n",
    "            else:\n",
    "                return False\n",
    "        \n",
    "calc(n)"
   ]
  },
  {
   "cell_type": "code",
   "execution_count": 73,
   "id": "f779bf2a-9fb3-46bb-ae53-9d24f34fc9ea",
   "metadata": {},
   "outputs": [
    {
     "name": "stdout",
     "output_type": "stream",
     "text": [
      "0\n",
      "2\n",
      "4\n",
      "6\n",
      "8\n"
     ]
    }
   ],
   "source": [
    "li=[1,2,3,4,5,6,7,8,9,10]\n",
    "def calc(li):\n",
    "    for i in range(len(li)):\n",
    "        if i %2==0:\n",
    "            print (i)\n",
    "calc(li)"
   ]
  },
  {
   "cell_type": "code",
   "execution_count": 75,
   "id": "6347e698-e71e-4b22-b54e-f230aa23a74d",
   "metadata": {},
   "outputs": [
    {
     "name": "stdout",
     "output_type": "stream",
     "text": [
      "0\n",
      "2\n",
      "4\n",
      "6\n",
      "8\n"
     ]
    }
   ],
   "source": [
    "for i in range(0,10):\n",
    "        if i %2==0:\n",
    "            print (i)"
   ]
  },
  {
   "cell_type": "code",
   "execution_count": 81,
   "id": "295a00c7-6390-47fd-aab3-e567ddbca4f8",
   "metadata": {},
   "outputs": [
    {
     "name": "stdout",
     "output_type": "stream",
     "text": [
      "['world', 'hello']\n"
     ]
    }
   ],
   "source": [
    "k=\"hello world\"\n",
    "m=k.split()\n",
    "reve = m[::-1]\n",
    "print(reve)"
   ]
  },
  {
   "cell_type": "code",
   "execution_count": 89,
   "id": "66efdfbe-d3bb-459d-84a3-d5d60ea33618",
   "metadata": {},
   "outputs": [
    {
     "name": "stdin",
     "output_type": "stream",
     "text": [
      "enter the number 234\n"
     ]
    },
    {
     "name": "stdout",
     "output_type": "stream",
     "text": [
      "False\n"
     ]
    }
   ],
   "source": [
    "number= input(\"enter the number\")\n",
    "re = number[::-1]\n",
    "if number==re:\n",
    "    print(\"True\")\n",
    "\n",
    "else:\n",
    "    print(\"False\")\n"
   ]
  },
  {
   "cell_type": "code",
   "execution_count": 1,
   "id": "95f1eed2-0dcb-40e2-986f-9cf0ecc6ab8d",
   "metadata": {},
   "outputs": [
    {
     "name": "stdin",
     "output_type": "stream",
     "text": [
      "enter the name hello\n"
     ]
    },
    {
     "name": "stdout",
     "output_type": "stream",
     "text": [
      "False\n"
     ]
    }
   ],
   "source": [
    "name = input(\"enter the name\")\n",
    "re=name[::-1]\n",
    "if name==re:\n",
    "    print(\"True\")\n",
    "\n",
    "else:\n",
    "    print(\"False\")"
   ]
  },
  {
   "cell_type": "code",
   "execution_count": 5,
   "id": "7cf94f9a-d210-4f8b-ae7b-94e9de4ca5d1",
   "metadata": {},
   "outputs": [
    {
     "name": "stdout",
     "output_type": "stream",
     "text": [
      "[1, 4, 9, 16, 25, 36, 49, 64, 81, 100, 121, 144, 169, 196, 225, 256, 289, 324, 361, 400, 441, 484, 529, 576, 625, 676, 729, 784, 841, 900]\n"
     ]
    }
   ],
   "source": [
    "def calc():\n",
    "    li=[]\n",
    "    for i in range(1,31):\n",
    "        k=i*i\n",
    "        li.append(k)\n",
    "    print(li)\n",
    "calc()"
   ]
  },
  {
   "cell_type": "code",
   "execution_count": null,
   "id": "5d26eada-9737-43f3-b89e-78e5b812d00f",
   "metadata": {},
   "outputs": [],
   "source": []
  }
 ],
 "metadata": {
  "kernelspec": {
   "display_name": "anaconda-2022.05-py39",
   "language": "python",
   "name": "conda-env-anaconda-2022.05-py39-py"
  },
  "language_info": {
   "codemirror_mode": {
    "name": "ipython",
    "version": 3
   },
   "file_extension": ".py",
   "mimetype": "text/x-python",
   "name": "python",
   "nbconvert_exporter": "python",
   "pygments_lexer": "ipython3",
   "version": "3.9.12"
  }
 },
 "nbformat": 4,
 "nbformat_minor": 5
}
