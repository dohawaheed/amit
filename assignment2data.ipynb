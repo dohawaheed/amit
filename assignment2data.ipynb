{
 "cells": [
  {
   "cell_type": "code",
   "execution_count": 124,
   "id": "7afa9480-80c8-4f05-9ee3-fcabfa6d1839",
   "metadata": {},
   "outputs": [],
   "source": [
    "import numpy as np"
   ]
  },
  {
   "cell_type": "code",
   "execution_count": 125,
   "id": "386de7bf-7c48-4eda-8729-5534cbda1548",
   "metadata": {},
   "outputs": [
    {
     "data": {
      "text/plain": [
       "array([0., 0., 0., 0.])"
      ]
     },
     "execution_count": 125,
     "metadata": {},
     "output_type": "execute_result"
    }
   ],
   "source": [
    "np.zeros(4)"
   ]
  },
  {
   "cell_type": "code",
   "execution_count": 126,
   "id": "cce5648a-7e84-404e-b2a9-5ba145cea7f4",
   "metadata": {},
   "outputs": [
    {
     "data": {
      "text/plain": [
       "True"
      ]
     },
     "execution_count": 126,
     "metadata": {},
     "output_type": "execute_result"
    }
   ],
   "source": [
    "array = np.array([0,0,0,0])\n",
    "def calc(array):\n",
    "    if np.any(array!=0): \n",
    "        return False \n",
    "    else:\n",
    "        return True\n",
    "    \n",
    "calc(array)"
   ]
  },
  {
   "cell_type": "code",
   "execution_count": 128,
   "id": "c1fdb4c7-fcb5-4e47-a04c-aecb93312f62",
   "metadata": {},
   "outputs": [
    {
     "ename": "IndentationError",
     "evalue": "expected an indented block (1658265475.py, line 4)",
     "output_type": "error",
     "traceback": [
      "\u001b[0;36m  Input \u001b[0;32mIn [128]\u001b[0;36m\u001b[0m\n\u001b[0;31m    \u001b[0m\n\u001b[0m    ^\u001b[0m\n\u001b[0;31mIndentationError\u001b[0m\u001b[0;31m:\u001b[0m expected an indented block\n"
     ]
    }
   ],
   "source": [
    "array1 = np.array([1.0,2.0,3.0])\n",
    "array2 = np.array([1.0000,2.0001,3.0002])\n",
    "def calc(array1,array2):\n",
    "    "
   ]
  },
  {
   "cell_type": "code",
   "execution_count": 131,
   "id": "41af4126-6faf-4df7-b6ec-5ac24866df78",
   "metadata": {},
   "outputs": [
    {
     "ename": "AttributeError",
     "evalue": "module 'numpy' has no attribute 'fives'",
     "output_type": "error",
     "traceback": [
      "\u001b[0;31m---------------------------------------------------------------------------\u001b[0m",
      "\u001b[0;31mAttributeError\u001b[0m                            Traceback (most recent call last)",
      "Input \u001b[0;32mIn [131]\u001b[0m, in \u001b[0;36m<cell line: 6>\u001b[0;34m()\u001b[0m\n\u001b[1;32m      3\u001b[0m     np\u001b[38;5;241m.\u001b[39mones(\u001b[38;5;241m10\u001b[39m)\n\u001b[1;32m      4\u001b[0m     np\u001b[38;5;241m.\u001b[39mfives(\u001b[38;5;241m10\u001b[39m)\n\u001b[0;32m----> 6\u001b[0m \u001b[43mcalc\u001b[49m\u001b[43m(\u001b[49m\u001b[43m)\u001b[49m\n",
      "Input \u001b[0;32mIn [131]\u001b[0m, in \u001b[0;36mcalc\u001b[0;34m()\u001b[0m\n\u001b[1;32m      2\u001b[0m np\u001b[38;5;241m.\u001b[39mzeros(\u001b[38;5;241m10\u001b[39m)\n\u001b[1;32m      3\u001b[0m np\u001b[38;5;241m.\u001b[39mones(\u001b[38;5;241m10\u001b[39m)\n\u001b[0;32m----> 4\u001b[0m \u001b[43mnp\u001b[49m\u001b[38;5;241;43m.\u001b[39;49m\u001b[43mfives\u001b[49m(\u001b[38;5;241m10\u001b[39m)\n",
      "File \u001b[0;32m/opt/conda/envs/anaconda-2022.05-py39/lib/python3.9/site-packages/numpy/__init__.py:313\u001b[0m, in \u001b[0;36m__getattr__\u001b[0;34m(attr)\u001b[0m\n\u001b[1;32m    310\u001b[0m     \u001b[38;5;28;01mfrom\u001b[39;00m \u001b[38;5;21;01m.\u001b[39;00m\u001b[38;5;21;01mtesting\u001b[39;00m \u001b[38;5;28;01mimport\u001b[39;00m Tester\n\u001b[1;32m    311\u001b[0m     \u001b[38;5;28;01mreturn\u001b[39;00m Tester\n\u001b[0;32m--> 313\u001b[0m \u001b[38;5;28;01mraise\u001b[39;00m \u001b[38;5;167;01mAttributeError\u001b[39;00m(\u001b[38;5;124m\"\u001b[39m\u001b[38;5;124mmodule \u001b[39m\u001b[38;5;132;01m{!r}\u001b[39;00m\u001b[38;5;124m has no attribute \u001b[39m\u001b[38;5;124m\"\u001b[39m\n\u001b[1;32m    314\u001b[0m                      \u001b[38;5;124m\"\u001b[39m\u001b[38;5;132;01m{!r}\u001b[39;00m\u001b[38;5;124m\"\u001b[39m\u001b[38;5;241m.\u001b[39mformat(\u001b[38;5;18m__name__\u001b[39m, attr))\n",
      "\u001b[0;31mAttributeError\u001b[0m: module 'numpy' has no attribute 'fives'"
     ]
    }
   ],
   "source": [
    "def calc():\n",
    "    np.zeros(10)\n",
    "    np.ones(10)\n",
    "    np.fives(10)\n",
    "    \n",
    "calc()"
   ]
  },
  {
   "cell_type": "code",
   "execution_count": 132,
   "id": "ee01a01c-f38f-4868-9d3b-d44b37812c43",
   "metadata": {},
   "outputs": [],
   "source": [
    "my_list=[0,0,0,0,0,0,0,0,0,0,1,1,1,1,1,1,1,1,1,1,5,5,5,5,5,5,5,5,5,5]"
   ]
  },
  {
   "cell_type": "code",
   "execution_count": 134,
   "id": "e9bcbb8b-6be5-4bdd-b4f6-4e0a23ace3d3",
   "metadata": {},
   "outputs": [],
   "source": [
    "x = np.array(my_list)"
   ]
  },
  {
   "cell_type": "code",
   "execution_count": 136,
   "id": "ecd76ce6-ac9a-4508-9499-e2d6812c2e2c",
   "metadata": {},
   "outputs": [
    {
     "data": {
      "text/plain": [
       "array([0, 0, 0, 0, 0, 0, 0, 0, 0, 0, 1, 1, 1, 1, 1, 1, 1, 1, 1, 1, 5, 5,\n",
       "       5, 5, 5, 5, 5, 5, 5, 5])"
      ]
     },
     "execution_count": 136,
     "metadata": {},
     "output_type": "execute_result"
    }
   ],
   "source": [
    "x"
   ]
  },
  {
   "cell_type": "code",
   "execution_count": 137,
   "id": "ce95fcbd-dbd7-406c-93a8-b373524e1393",
   "metadata": {},
   "outputs": [],
   "source": [
    "array=np.arange(30,71)"
   ]
  },
  {
   "cell_type": "code",
   "execution_count": 138,
   "id": "f2341cca-b496-4cc5-9c89-5becca9b38d7",
   "metadata": {},
   "outputs": [
    {
     "data": {
      "text/plain": [
       "array([30, 31, 32, 33, 34, 35, 36, 37, 38, 39, 40, 41, 42, 43, 44, 45, 46,\n",
       "       47, 48, 49, 50, 51, 52, 53, 54, 55, 56, 57, 58, 59, 60, 61, 62, 63,\n",
       "       64, 65, 66, 67, 68, 69, 70])"
      ]
     },
     "execution_count": 138,
     "metadata": {},
     "output_type": "execute_result"
    }
   ],
   "source": [
    "array"
   ]
  },
  {
   "cell_type": "code",
   "execution_count": 139,
   "id": "5a544175-e731-4668-930e-43e258c4228d",
   "metadata": {},
   "outputs": [
    {
     "data": {
      "text/plain": [
       "array([[1., 0., 0.],\n",
       "       [0., 1., 0.],\n",
       "       [0., 0., 1.]])"
      ]
     },
     "execution_count": 139,
     "metadata": {},
     "output_type": "execute_result"
    }
   ],
   "source": [
    "np.eye(3)"
   ]
  },
  {
   "cell_type": "code",
   "execution_count": 140,
   "id": "251315ac-00d6-4607-a77e-c24dfbcf9e28",
   "metadata": {},
   "outputs": [
    {
     "data": {
      "text/plain": [
       "0.269625206721836"
      ]
     },
     "execution_count": 140,
     "metadata": {},
     "output_type": "execute_result"
    }
   ],
   "source": [
    "np.random.rand()"
   ]
  },
  {
   "cell_type": "code",
   "execution_count": 144,
   "id": "28484130-39b4-4151-91bb-dda589b51789",
   "metadata": {},
   "outputs": [
    {
     "data": {
      "text/plain": [
       "array([0.83727836, 0.78583211, 0.40625713, 0.12165601, 0.67241808,\n",
       "       0.60418948, 0.28855024, 0.43563327, 0.59823156, 0.26509313,\n",
       "       0.3314608 , 0.18630656, 0.90825859, 0.81976706, 0.78158582])"
      ]
     },
     "execution_count": 144,
     "metadata": {},
     "output_type": "execute_result"
    }
   ],
   "source": [
    "np.random.rand(15)"
   ]
  },
  {
   "cell_type": "code",
   "execution_count": 148,
   "id": "ccfe72f8-ae5c-44b3-aa5a-d1de9bf95770",
   "metadata": {},
   "outputs": [
    {
     "data": {
      "text/plain": [
       "array([16, 17, 18, 19, 20, 21, 22, 23, 24, 25, 26, 27, 28, 29, 30, 31, 32,\n",
       "       33, 34, 35, 36, 37, 38, 39, 40, 41, 42, 43, 44, 45, 46, 47, 48, 49,\n",
       "       50, 51, 52, 53, 54])"
      ]
     },
     "execution_count": 148,
     "metadata": {},
     "output_type": "execute_result"
    }
   ],
   "source": [
    "vector = np.arange(16,55) \n",
    "vector"
   ]
  },
  {
   "cell_type": "code",
   "execution_count": 149,
   "id": "c81c8a78-8d37-450f-a892-60f84ad97a8a",
   "metadata": {},
   "outputs": [],
   "source": [
    "vector = np.random.randint(0,10,5)"
   ]
  },
  {
   "cell_type": "code",
   "execution_count": 151,
   "id": "61c4a02a-b8fd-4110-8ff3-20afc21f7782",
   "metadata": {},
   "outputs": [
    {
     "data": {
      "text/plain": [
       "array([6, 6, 3, 0, 4])"
      ]
     },
     "execution_count": 151,
     "metadata": {},
     "output_type": "execute_result"
    }
   ],
   "source": [
    "vector"
   ]
  },
  {
   "cell_type": "code",
   "execution_count": 198,
   "id": "af0cd40a-72dd-4c35-87d3-a13e7cd79ab8",
   "metadata": {},
   "outputs": [],
   "source": [
    "matrix=np.zeros((10,10))\n",
    "matrix[0, :] = 1\n",
    "matrix[-1, :] = 1\n",
    "matrix[:, 0] = 1\n",
    "matrix[:, -1] = 1"
   ]
  },
  {
   "cell_type": "code",
   "execution_count": 201,
   "id": "c867e10f-d8db-4d1b-9076-6ed78a453d41",
   "metadata": {},
   "outputs": [
    {
     "data": {
      "text/plain": [
       "array([[1., 1., 1., 1., 1., 1., 1., 1., 1., 1.],\n",
       "       [1., 0., 0., 0., 0., 0., 0., 0., 0., 1.],\n",
       "       [1., 0., 0., 0., 0., 0., 0., 0., 0., 1.],\n",
       "       [1., 0., 0., 0., 0., 0., 0., 0., 0., 1.],\n",
       "       [1., 0., 0., 0., 0., 0., 0., 0., 0., 1.],\n",
       "       [1., 0., 0., 0., 0., 0., 0., 0., 0., 1.],\n",
       "       [1., 0., 0., 0., 0., 0., 0., 0., 0., 1.],\n",
       "       [1., 0., 0., 0., 0., 0., 0., 0., 0., 1.],\n",
       "       [1., 0., 0., 0., 0., 0., 0., 0., 0., 1.],\n",
       "       [1., 1., 1., 1., 1., 1., 1., 1., 1., 1.]])"
      ]
     },
     "execution_count": 201,
     "metadata": {},
     "output_type": "execute_result"
    }
   ],
   "source": [
    "matrix"
   ]
  },
  {
   "cell_type": "code",
   "execution_count": 203,
   "id": "cbd6632c-42b3-415d-9d3f-d511bcaeb35e",
   "metadata": {},
   "outputs": [],
   "source": [
    "matrix=np.zeros((5,5))\n",
    "for i in range(5):\n",
    "    matrix[i,i]=i+1"
   ]
  },
  {
   "cell_type": "code",
   "execution_count": 205,
   "id": "523e48fc-775d-41d8-94aa-262ea8e28594",
   "metadata": {},
   "outputs": [
    {
     "data": {
      "text/plain": [
       "array([[1., 0., 0., 0., 0.],\n",
       "       [0., 2., 0., 0., 0.],\n",
       "       [0., 0., 3., 0., 0.],\n",
       "       [0., 0., 0., 4., 0.],\n",
       "       [0., 0., 0., 0., 5.]])"
      ]
     },
     "execution_count": 205,
     "metadata": {},
     "output_type": "execute_result"
    }
   ],
   "source": [
    "matrix"
   ]
  },
  {
   "cell_type": "code",
   "execution_count": 207,
   "id": "58b824a6-72cd-4b09-9b95-073a37f29411",
   "metadata": {},
   "outputs": [],
   "source": [
    "matrix=np.zeros((4,4))\n",
    "for i in range(4):\n",
    "    for k in range(4):\n",
    "        if (i+k)%2!=0:\n",
    "            matrix[i,k]=1\n",
    "        "
   ]
  },
  {
   "cell_type": "code",
   "execution_count": 209,
   "id": "65146761-f1fb-4293-8ffd-add972a7209d",
   "metadata": {},
   "outputs": [
    {
     "data": {
      "text/plain": [
       "array([[0., 1., 0., 1.],\n",
       "       [1., 0., 1., 0.],\n",
       "       [0., 1., 0., 1.],\n",
       "       [1., 0., 1., 0.]])"
      ]
     },
     "execution_count": 209,
     "metadata": {},
     "output_type": "execute_result"
    }
   ],
   "source": [
    "matrix"
   ]
  },
  {
   "cell_type": "code",
   "execution_count": 214,
   "id": "0c89b30c-8128-4cf4-bff2-ed7295793bd6",
   "metadata": {},
   "outputs": [],
   "source": [
    "array=np.random.rand(40)"
   ]
  },
  {
   "cell_type": "code",
   "execution_count": 216,
   "id": "ce7bb2b5-d63d-4b4a-9442-95c6b31ec96e",
   "metadata": {},
   "outputs": [
    {
     "data": {
      "text/plain": [
       "array([0.35839372, 0.00367614, 0.20177923, 0.20086451, 0.53175287,\n",
       "       0.13391571, 0.95991637, 0.28909451, 0.50173428, 0.98797857,\n",
       "       0.83725911, 0.4235866 , 0.19522958, 0.72124977, 0.74547126,\n",
       "       0.88156411, 0.83048073, 0.34571993, 0.88258547, 0.10359685,\n",
       "       0.30775954, 0.51494431, 0.99643017, 0.54207698, 0.92789268,\n",
       "       0.50968851, 0.45931262, 0.23167147, 0.66615301, 0.30928934,\n",
       "       0.30351234, 0.85528263, 0.37538018, 0.40562137, 0.66155695,\n",
       "       0.40990206, 0.95090816, 0.81886091, 0.16151056, 0.1970652 ])"
      ]
     },
     "execution_count": 216,
     "metadata": {},
     "output_type": "execute_result"
    }
   ],
   "source": [
    "array"
   ]
  },
  {
   "cell_type": "code",
   "execution_count": 236,
   "id": "7297ba6c-f43d-483f-98d4-94a397450cb6",
   "metadata": {},
   "outputs": [
    {
     "data": {
      "text/plain": [
       "array([4, 5, 6, 7, 8, 9])"
      ]
     },
     "execution_count": 236,
     "metadata": {},
     "output_type": "execute_result"
    }
   ],
   "source": [
    "array =np.arange(0,10)\n",
    "array2=array>3\n",
    "array[array2]"
   ]
  },
  {
   "cell_type": "code",
   "execution_count": null,
   "id": "2057bb05-4002-4a89-a8f6-5aa03b517bb9",
   "metadata": {},
   "outputs": [],
   "source": []
  },
  {
   "cell_type": "code",
   "execution_count": null,
   "id": "b8414015-3108-4792-937c-168425d8cf74",
   "metadata": {},
   "outputs": [],
   "source": []
  }
 ],
 "metadata": {
  "kernelspec": {
   "display_name": "anaconda-2022.05-py39",
   "language": "python",
   "name": "conda-env-anaconda-2022.05-py39-py"
  },
  "language_info": {
   "codemirror_mode": {
    "name": "ipython",
    "version": 3
   },
   "file_extension": ".py",
   "mimetype": "text/x-python",
   "name": "python",
   "nbconvert_exporter": "python",
   "pygments_lexer": "ipython3",
   "version": "3.9.12"
  }
 },
 "nbformat": 4,
 "nbformat_minor": 5
}
