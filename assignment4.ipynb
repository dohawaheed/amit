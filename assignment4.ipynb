{
 "cells": [
  {
   "cell_type": "code",
   "execution_count": 15,
   "id": "9a65635f-a833-4093-9567-81ffa78cb894",
   "metadata": {},
   "outputs": [],
   "source": [
    "class rectangle():\n",
    "    def __init__(self,length,width):\n",
    "        self.length = length\n",
    "        self.width = width\n",
    "        \n",
    "    def perimeter(self):\n",
    "        print(2*(self.length + self.width))\n",
    "        \n",
    "    def area(self):\n",
    "        print(self.length * self.width)\n",
    "        \n",
    "    def display(self):\n",
    "        print(\"this is the length \" , self.length , \"this is the width\" , self.width , \"this is the perimeter\" , 2*(self.length + self.width), \"this is the area\" ,self.length * self.width)"
   ]
  },
  {
   "cell_type": "code",
   "execution_count": 17,
   "id": "caef6e3f-d8bf-4844-b8cd-b24ae5ca6a05",
   "metadata": {},
   "outputs": [],
   "source": [
    "rectangle1=rectangle(5,4)"
   ]
  },
  {
   "cell_type": "code",
   "execution_count": 19,
   "id": "5696d7cd-5891-4818-95e3-5e7d7bc4ef6d",
   "metadata": {},
   "outputs": [
    {
     "name": "stdout",
     "output_type": "stream",
     "text": [
      "18\n"
     ]
    }
   ],
   "source": [
    "rectangle1.perimeter()"
   ]
  },
  {
   "cell_type": "code",
   "execution_count": 21,
   "id": "1ae39d18-94e9-41f9-9125-2381c0434498",
   "metadata": {},
   "outputs": [
    {
     "name": "stdout",
     "output_type": "stream",
     "text": [
      "20\n"
     ]
    }
   ],
   "source": [
    "rectangle1.area()"
   ]
  },
  {
   "cell_type": "code",
   "execution_count": 23,
   "id": "77a40d8d-9a60-4a52-ae90-a480be846d13",
   "metadata": {},
   "outputs": [
    {
     "name": "stdout",
     "output_type": "stream",
     "text": [
      "this is the length  5 this is the width 4 this is the perimeter 18 this is the area 20\n"
     ]
    }
   ],
   "source": [
    "rectangle1.display()"
   ]
  },
  {
   "cell_type": "code",
   "execution_count": 56,
   "id": "51f46c32-0d6a-4f50-95a6-440d98940136",
   "metadata": {},
   "outputs": [],
   "source": [
    "class Parallelepipede(rectangle):\n",
    "    def __init__(self,length,width,height):\n",
    "        \n",
    "        \n",
    "        self.length = length\n",
    "        self.width = width\n",
    "        self.height = height\n",
    "        \n",
    "         \n",
    "        \n",
    "    def Volume(self):\n",
    "        print(self.length * self.width * self.height )"
   ]
  },
  {
   "cell_type": "code",
   "execution_count": 58,
   "id": "1ea9e5d9-4245-468f-b4c9-485505fd3227",
   "metadata": {},
   "outputs": [],
   "source": [
    "Parallelepipede1=Parallelepipede(5,4,3)"
   ]
  },
  {
   "cell_type": "code",
   "execution_count": 60,
   "id": "fd82cadf-722c-4b62-80f3-3a0e0b52ba43",
   "metadata": {},
   "outputs": [
    {
     "name": "stdout",
     "output_type": "stream",
     "text": [
      "60\n"
     ]
    }
   ],
   "source": [
    "Parallelepipede1.Volume()"
   ]
  },
  {
   "cell_type": "code",
   "execution_count": 68,
   "id": "c2208add-fc20-4cb9-b1ca-a6c723fb70e9",
   "metadata": {},
   "outputs": [],
   "source": [
    "class Person():\n",
    "    def __init__(self,name,age):\n",
    "        self.name = name\n",
    "        self.age = age\n",
    "    def display(self):\n",
    "        print(self.name,self.age)"
   ]
  },
  {
   "cell_type": "code",
   "execution_count": 70,
   "id": "1f25f63f-9235-4233-9757-453f7079401d",
   "metadata": {},
   "outputs": [],
   "source": [
    "Person1=Person(\"ahmed\",21)"
   ]
  },
  {
   "cell_type": "code",
   "execution_count": 72,
   "id": "b793f9d6-5776-4829-bfb4-29d9211bb41e",
   "metadata": {},
   "outputs": [
    {
     "name": "stdout",
     "output_type": "stream",
     "text": [
      "ahmed 21\n"
     ]
    }
   ],
   "source": [
    "Person1.display()"
   ]
  },
  {
   "cell_type": "code",
   "execution_count": 74,
   "id": "f395c678-c33e-4328-a68c-3536a87dabbf",
   "metadata": {},
   "outputs": [],
   "source": [
    "class childStudent(Person):\n",
    "    def __init__(self,name,age,section):\n",
    "        self.name = name\n",
    "        self.age = age\n",
    "        self.section = section\n",
    "        \n",
    "    def displayStudent(self):\n",
    "        print(self.name , self.age , self.section)"
   ]
  },
  {
   "cell_type": "code",
   "execution_count": 76,
   "id": "5972defa-3451-41ec-85b0-c66607c1a2dc",
   "metadata": {},
   "outputs": [],
   "source": [
    "childStudent1=childStudent(\"ahme\",21,\"ddd\")"
   ]
  },
  {
   "cell_type": "code",
   "execution_count": 78,
   "id": "bfdca672-bbec-439b-99d9-9e84e43cdb14",
   "metadata": {},
   "outputs": [
    {
     "name": "stdout",
     "output_type": "stream",
     "text": [
      "ahme 21 ddd\n"
     ]
    }
   ],
   "source": [
    "childStudent1.displayStudent()"
   ]
  },
  {
   "cell_type": "code",
   "execution_count": 66,
   "id": "1f7ec76f-77a7-434d-a582-cff32feed1d1",
   "metadata": {},
   "outputs": [],
   "source": [
    "class Coputation():\n",
    "    def __init__(self):\n",
    "        pass \n",
    "    def sum(self,a,b):\n",
    "        print(a+b)\n",
    "        \n",
    "    def minus(self,a,b):\n",
    "        print(a-b)\n",
    "        \n",
    "    def multip(self,a,b):\n",
    "        print(a*b)\n",
    "        \n",
    "    def divided(self,a,b):\n",
    "        print(a/b)\n",
    "        \n",
    "    def Factorial(self,n):\n",
    "        if n==0:\n",
    "            print(\"no\")\n",
    "        else :\n",
    "            print(n*(n-1))\n",
    "            \n",
    "    def Sum1(self, n1,n2):\n",
    "        i=0\n",
    "        while n1 != n2:\n",
    "            k= n1 + (n1+i)\n",
    "            n1+=1\n",
    "            i+=2\n",
    "            \n",
    "        print(k)\n",
    "             \n",
    "    def testPrim(self,n):\n",
    "        for i in range(1,10):\n",
    "            if i!=n :\n",
    "                if i%n==0:\n",
    "                    print(\"false\")\n",
    "            else:\n",
    "                print(\"true\")\n",
    "                \n",
    "        \n",
    "    \n",
    "                \n",
    "            "
   ]
  },
  {
   "cell_type": "code",
   "execution_count": 67,
   "id": "4126cbab-e5f4-4c1d-8ad2-820e90411a78",
   "metadata": {},
   "outputs": [],
   "source": [
    "Coputation1=Coputation()"
   ]
  },
  {
   "cell_type": "code",
   "execution_count": 70,
   "id": "100e0130-a71e-4e90-b0da-6cb414fb4d03",
   "metadata": {},
   "outputs": [
    {
     "name": "stdout",
     "output_type": "stream",
     "text": [
      "5\n"
     ]
    }
   ],
   "source": [
    "Coputation1.sum(2,3)"
   ]
  },
  {
   "cell_type": "code",
   "execution_count": 71,
   "id": "14b36d4e-000a-4b5a-be15-679834f9347c",
   "metadata": {},
   "outputs": [
    {
     "name": "stdout",
     "output_type": "stream",
     "text": [
      "20\n"
     ]
    }
   ],
   "source": [
    "Coputation1.Factorial(5)"
   ]
  },
  {
   "cell_type": "code",
   "execution_count": 73,
   "id": "188e55d3-a7de-4e0d-be66-8912fe9ab6a7",
   "metadata": {},
   "outputs": [
    {
     "name": "stdout",
     "output_type": "stream",
     "text": [
      "14\n"
     ]
    }
   ],
   "source": [
    "Coputation1.Sum1(1,5)"
   ]
  },
  {
   "cell_type": "code",
   "execution_count": 75,
   "id": "f78d37f8-420c-4c28-b05b-aa977be42dfb",
   "metadata": {},
   "outputs": [],
   "source": [
    "Coputation1.testPrim(101)"
   ]
  },
  {
   "cell_type": "code",
   "execution_count": null,
   "id": "37a4d8a1-fa54-42bb-a090-12b74adf2c26",
   "metadata": {},
   "outputs": [],
   "source": [
    "li1=[\"iamangry\"]\n",
    "li2=[\"iamhungry\"]\n",
    "def ck(li1,li2):\n",
    "    for i in len(li1+1):\n",
    "        for k in len(li2+1):\n",
    "            if "
   ]
  },
  {
   "cell_type": "code",
   "execution_count": null,
   "id": "f8b756cd-79c4-486b-9043-1eccd4927c16",
   "metadata": {},
   "outputs": [],
   "source": []
  }
 ],
 "metadata": {
  "kernelspec": {
   "display_name": "anaconda-2022.05-py39",
   "language": "python",
   "name": "conda-env-anaconda-2022.05-py39-py"
  },
  "language_info": {
   "codemirror_mode": {
    "name": "ipython",
    "version": 3
   },
   "file_extension": ".py",
   "mimetype": "text/x-python",
   "name": "python",
   "nbconvert_exporter": "python",
   "pygments_lexer": "ipython3",
   "version": "3.9.12"
  }
 },
 "nbformat": 4,
 "nbformat_minor": 5
}
