{
 "cells": [
  {
   "cell_type": "code",
   "execution_count": 1,
   "id": "0c1a4b4b-eb69-4eba-a001-92e6e701eaa5",
   "metadata": {},
   "outputs": [],
   "source": [
    "my_tuple = (1, 2, 3, 4)"
   ]
  },
  {
   "cell_type": "code",
   "execution_count": 3,
   "id": "ce0b4ee1-0680-40c0-8f05-6c96f01b0987",
   "metadata": {},
   "outputs": [
    {
     "ename": "AttributeError",
     "evalue": "'tuple' object has no attribute 'append'",
     "output_type": "error",
     "traceback": [
      "\u001b[0;31m---------------------------------------------------------------------------\u001b[0m",
      "\u001b[0;31mAttributeError\u001b[0m                            Traceback (most recent call last)",
      "Input \u001b[0;32mIn [3]\u001b[0m, in \u001b[0;36m<cell line: 1>\u001b[0;34m()\u001b[0m\n\u001b[0;32m----> 1\u001b[0m \u001b[43mmy_tuple\u001b[49m\u001b[38;5;241;43m.\u001b[39;49m\u001b[43mappend\u001b[49m(\u001b[38;5;241m3\u001b[39m)\n",
      "\u001b[0;31mAttributeError\u001b[0m: 'tuple' object has no attribute 'append'"
     ]
    }
   ],
   "source": [
    "my_tuple.append(3)"
   ]
  },
  {
   "cell_type": "code",
   "execution_count": 16,
   "id": "9e5a5012-3caa-4e07-938a-ecbb65ab5012",
   "metadata": {},
   "outputs": [
    {
     "name": "stdout",
     "output_type": "stream",
     "text": [
      "12\n"
     ]
    }
   ],
   "source": [
    "l=[1,2,2,3,4]\n",
    "def calc(l):\n",
    "    m=0\n",
    "    for i in l:\n",
    "        m=m+i\n",
    "    print(m)\n",
    "calc(l)"
   ]
  },
  {
   "cell_type": "code",
   "execution_count": 24,
   "id": "0aa94819-7508-4620-9ca9-13329666bd73",
   "metadata": {},
   "outputs": [
    {
     "name": "stdout",
     "output_type": "stream",
     "text": [
      "48\n"
     ]
    }
   ],
   "source": [
    "li=[1,2,2,3,4]\n",
    "def calc(li):\n",
    "    m=1\n",
    "    for i in li:\n",
    "        m=m*i\n",
    "    print(m)\n",
    "calc(li)"
   ]
  },
  {
   "cell_type": "code",
   "execution_count": 31,
   "id": "780e8060-f528-46ff-82ab-1e65ae3e0404",
   "metadata": {},
   "outputs": [
    {
     "name": "stdout",
     "output_type": "stream",
     "text": [
      "1\n"
     ]
    }
   ],
   "source": [
    "li=[1,2,2,3,4]\n",
    "def calc(li):\n",
    "    m=li[0]\n",
    "    for i in li:\n",
    "        if l[i]< m:\n",
    "            m=l[i]\n",
    "    print(m)\n",
    "calc(li)"
   ]
  },
  {
   "cell_type": "code",
   "execution_count": 34,
   "id": "b3d58f15-76cd-453c-9867-6270df572f14",
   "metadata": {},
   "outputs": [
    {
     "name": "stdout",
     "output_type": "stream",
     "text": [
      "4\n"
     ]
    }
   ],
   "source": [
    "li=[1,2,2,3,4]\n",
    "def calc(li):\n",
    "    m=li[0]\n",
    "    for i in li:\n",
    "        if l[i]> m:\n",
    "            m=l[i]\n",
    "    print(m)\n",
    "calc(li)"
   ]
  },
  {
   "cell_type": "code",
   "execution_count": 38,
   "id": "cb155510-e465-4852-bcff-90f341203d80",
   "metadata": {},
   "outputs": [
    {
     "name": "stdout",
     "output_type": "stream",
     "text": [
      "3\n"
     ]
    }
   ],
   "source": [
    "li=[\"ahmed\",\"mona\",\"mai\"]\n",
    "def calc(li):\n",
    "    m=0\n",
    "    for i in li:\n",
    "        m=m+1\n",
    "    print(m)\n",
    "calc(li)"
   ]
  },
  {
   "cell_type": "code",
   "execution_count": 55,
   "id": "d3e3b047-16ff-46a2-88db-046fc020be5f",
   "metadata": {},
   "outputs": [
    {
     "name": "stdout",
     "output_type": "stream",
     "text": [
      "['ahmed', 'mona', 'mai']\n"
     ]
    }
   ],
   "source": [
    "li=[\"ahmed\",\"mona\",\"mai\"]\n",
    "def calc(li):\n",
    "    m=[]\n",
    "    for i in li:\n",
    "        m.append(i)\n",
    "    print(m)\n",
    "calc(li)"
   ]
  },
  {
   "cell_type": "code",
   "execution_count": 75,
   "id": "feff1904-8f5b-4d62-8c7b-2ffdb3f0244f",
   "metadata": {},
   "outputs": [
    {
     "ename": "TypeError",
     "evalue": "unhashable type: 'list'",
     "output_type": "error",
     "traceback": [
      "\u001b[0;31m---------------------------------------------------------------------------\u001b[0m",
      "\u001b[0;31mTypeError\u001b[0m                                 Traceback (most recent call last)",
      "Input \u001b[0;32mIn [75]\u001b[0m, in \u001b[0;36m<cell line: 10>\u001b[0;34m()\u001b[0m\n\u001b[1;32m      8\u001b[0m     m\u001b[38;5;241m=\u001b[39mremove_items_from_set(se,li)\n\u001b[1;32m      9\u001b[0m     \u001b[38;5;28mprint\u001b[39m(m)\n\u001b[0;32m---> 10\u001b[0m \u001b[43mcalc\u001b[49m\u001b[43m(\u001b[49m\u001b[43mli\u001b[49m\u001b[43m,\u001b[49m\u001b[43mse\u001b[49m\u001b[43m)\u001b[49m\n",
      "Input \u001b[0;32mIn [75]\u001b[0m, in \u001b[0;36mcalc\u001b[0;34m(li, se)\u001b[0m\n\u001b[1;32m      5\u001b[0m m\u001b[38;5;241m=\u001b[39m[]\n\u001b[1;32m      6\u001b[0m \u001b[38;5;28;01mfor\u001b[39;00m i \u001b[38;5;129;01min\u001b[39;00m se:\n\u001b[0;32m----> 7\u001b[0m     \u001b[43mse\u001b[49m\u001b[38;5;241;43m.\u001b[39;49m\u001b[43mremove\u001b[49m\u001b[43m(\u001b[49m\u001b[43mli\u001b[49m\u001b[43m)\u001b[49m\n\u001b[1;32m      8\u001b[0m m\u001b[38;5;241m=\u001b[39mremove_items_from_set(se,li)\n\u001b[1;32m      9\u001b[0m \u001b[38;5;28mprint\u001b[39m(m)\n",
      "\u001b[0;31mTypeError\u001b[0m: unhashable type: 'list'"
     ]
    }
   ],
   "source": [
    "li=[1,2,3,4,5]\n",
    "se={1,2,3,4,5,6,7,8,9}\n",
    "l=[]\n",
    "def calc(li,se):\n",
    "    m=[]\n",
    "    for i in se:\n",
    "        se.remove(li)\n",
    "    m=remove_items_from_set(se,li)\n",
    "    print(m)\n",
    "calc(li,se)"
   ]
  },
  {
   "cell_type": "code",
   "execution_count": 90,
   "id": "3c69cf2a-5ac5-42d8-b696-d39d7876d20a",
   "metadata": {},
   "outputs": [
    {
     "data": {
      "text/plain": [
       "True"
      ]
     },
     "execution_count": 90,
     "metadata": {},
     "output_type": "execute_result"
    }
   ],
   "source": [
    "se1={1,2,4,5}\n",
    "se2={1,2,4,5,6}\n",
    "def calc(se1,se2):\n",
    "    for i in se1:\n",
    "        if i not in se2:\n",
    "            return False \n",
    "        \n",
    "    return True\n",
    "calc(se1,se2)   "
   ]
  },
  {
   "cell_type": "code",
   "execution_count": 106,
   "id": "4e29f259-fb7c-4303-8188-552242106240",
   "metadata": {},
   "outputs": [],
   "source": [
    "se1={1,2,4,5}\n",
    "def calc(se1):\n",
    "    for i in se1:\n",
    "        se1.clear()\n",
    "    print(se1)\n"
   ]
  },
  {
   "cell_type": "code",
   "execution_count": 108,
   "id": "62438428-4942-4b24-a148-3364a8b7be01",
   "metadata": {},
   "outputs": [
    {
     "ename": "RuntimeError",
     "evalue": "Set changed size during iteration",
     "output_type": "error",
     "traceback": [
      "\u001b[0;31m---------------------------------------------------------------------------\u001b[0m",
      "\u001b[0;31mRuntimeError\u001b[0m                              Traceback (most recent call last)",
      "Input \u001b[0;32mIn [108]\u001b[0m, in \u001b[0;36m<cell line: 1>\u001b[0;34m()\u001b[0m\n\u001b[0;32m----> 1\u001b[0m \u001b[43mcalc\u001b[49m\u001b[43m(\u001b[49m\u001b[43mse1\u001b[49m\u001b[43m)\u001b[49m\n",
      "Input \u001b[0;32mIn [106]\u001b[0m, in \u001b[0;36mcalc\u001b[0;34m(se1)\u001b[0m\n\u001b[1;32m      2\u001b[0m \u001b[38;5;28;01mdef\u001b[39;00m \u001b[38;5;21mcalc\u001b[39m(se1):\n\u001b[0;32m----> 3\u001b[0m     \u001b[38;5;28;01mfor\u001b[39;00m i \u001b[38;5;129;01min\u001b[39;00m se1:\n\u001b[1;32m      4\u001b[0m         se1\u001b[38;5;241m.\u001b[39mclear()\n\u001b[1;32m      5\u001b[0m     \u001b[38;5;28mprint\u001b[39m(se1)\n",
      "\u001b[0;31mRuntimeError\u001b[0m: Set changed size during iteration"
     ]
    }
   ],
   "source": [
    "calc(se1)"
   ]
  },
  {
   "cell_type": "code",
   "execution_count": 127,
   "id": "a83b64fd-0c80-4573-a1f5-c52ab1aa34e9",
   "metadata": {},
   "outputs": [
    {
     "name": "stdout",
     "output_type": "stream",
     "text": [
      "9\n",
      "1\n"
     ]
    }
   ],
   "source": [
    "\n",
    "se={5,2,1,9,6,4}\n",
    "def calc(se1):\n",
    "    m= -999 \n",
    "    k= 999\n",
    "    for i in se:\n",
    "        if i > m:\n",
    "            m=i\n",
    "        if i < k:\n",
    "            k=i\n",
    "    print(m)\n",
    "    print(k)\n",
    "calc(se)"
   ]
  },
  {
   "cell_type": "code",
   "execution_count": 131,
   "id": "479b6ddb-0c5e-4e89-b8d7-de671844cb02",
   "metadata": {},
   "outputs": [
    {
     "name": "stdout",
     "output_type": "stream",
     "text": [
      "0\n"
     ]
    }
   ],
   "source": [
    "my_tuple = (1, 2, 3, 4)\n",
    "print(my_tuple.index(1)) "
   ]
  },
  {
   "cell_type": "code",
   "execution_count": 140,
   "id": "a0dfc4cc-663f-4b92-bf30-819b4586ff6f",
   "metadata": {},
   "outputs": [
    {
     "name": "stdout",
     "output_type": "stream",
     "text": [
      "{0: 'apple', 1: 'banana', 2: 'cherry', 3: 'apple', 4: 'cherry'}\n"
     ]
    }
   ],
   "source": [
    "thistuple = (\"apple\", \"banana\", \"cherry\", \"apple\", \"cherry\")\n",
    "def calc(thistuple):\n",
    "    d = {}\n",
    "    k=0\n",
    "    for i in thistuple:\n",
    "        d[k]=i\n",
    "        k+=1\n",
    "    print(d)\n",
    "calc(thistuple)"
   ]
  },
  {
   "cell_type": "code",
   "execution_count": 146,
   "id": "ddda9c5c-7e2d-499a-883e-d0953af9ac6c",
   "metadata": {},
   "outputs": [
    {
     "name": "stdout",
     "output_type": "stream",
     "text": [
      "['apple', 'banana', 'cherry', 'apple', 'cherry']\n"
     ]
    }
   ],
   "source": [
    "thistuple = (\"apple\", \"banana\", \"cherry\", \"apple\", \"cherry\")\n",
    "def calc(thistuple):\n",
    "    d=[]\n",
    "    \n",
    "    for i in thistuple:\n",
    "        d.append(i)\n",
    "    print(d)\n",
    "calc(thistuple)"
   ]
  },
  {
   "cell_type": "code",
   "execution_count": 223,
   "id": "73017df5-70ba-4a7d-b7d9-cb50d8af8323",
   "metadata": {},
   "outputs": [
    {
     "name": "stdout",
     "output_type": "stream",
     "text": [
      "('cherry', 'apple', 'cherry', 'banana', 'apple')\n"
     ]
    }
   ],
   "source": [
    "thistuple = (\"apple\", \"banana\", \"cherry\", \"apple\", \"cherry\")\n",
    "reversed = thistuple[::-1]\n",
    "print(reversed)\n",
    "if thistuple==reversed:\n",
    "    print(reversed)"
   ]
  },
  {
   "cell_type": "code",
   "execution_count": 166,
   "id": "86648a98-3e56-4afd-9614-6e79b43ae8cb",
   "metadata": {},
   "outputs": [
    {
     "name": "stdout",
     "output_type": "stream",
     "text": [
      "{0: ('apple', 1), 1: ('banana', 2), 2: ('cherry', 3)}\n"
     ]
    }
   ],
   "source": [
    "thistuple = [(\"apple\",1), (\"banana\",2), (\"cherry\",3)]\n",
    "def calc(thistuple):\n",
    "    d = {}\n",
    "    k=0\n",
    "    for i in thistuple:\n",
    "        d[k]=i\n",
    "        k+=1\n",
    "    print(d)\n",
    "calc(thistuple)"
   ]
  },
  {
   "cell_type": "code",
   "execution_count": 168,
   "id": "09c6ece8-3b87-4cb9-84bc-381c3545f577",
   "metadata": {},
   "outputs": [
    {
     "ename": "NameError",
     "evalue": "name 'new' is not defined",
     "output_type": "error",
     "traceback": [
      "\u001b[0;31m---------------------------------------------------------------------------\u001b[0m",
      "\u001b[0;31mNameError\u001b[0m                                 Traceback (most recent call last)",
      "Input \u001b[0;32mIn [168]\u001b[0m, in \u001b[0;36m<cell line: 7>\u001b[0;34m()\u001b[0m\n\u001b[1;32m      5\u001b[0m         new\u001b[38;5;241m.\u001b[39mappend(newlist)\n\u001b[1;32m      6\u001b[0m     \u001b[38;5;28;01mreturn\u001b[39;00m new\n\u001b[0;32m----> 7\u001b[0m \u001b[38;5;28mprint\u001b[39m(\u001b[43mnew\u001b[49m)\n\u001b[1;32m      8\u001b[0m calc(Samplelist)\n",
      "\u001b[0;31mNameError\u001b[0m: name 'new' is not defined"
     ]
    }
   ],
   "source": [
    "Samplelist: [(10, 20, 40), (40, 50, 60), (70, 80, 90)]\n",
    "def calc(Samplelist):\n",
    "    for i in Samplelist:\n",
    "        newlist=i[:-1]\n",
    "        new.append(newlist)\n",
    "    return new\n",
    "print(new)\n",
    "calc(Samplelist)"
   ]
  },
  {
   "cell_type": "code",
   "execution_count": 172,
   "id": "35295e2e-a16b-4cd8-a738-bf8f945ad6d9",
   "metadata": {},
   "outputs": [
    {
     "ename": "SyntaxError",
     "evalue": "invalid syntax (931528791.py, line 5)",
     "output_type": "error",
     "traceback": [
      "\u001b[0;36m  Input \u001b[0;32mIn [172]\u001b[0;36m\u001b[0m\n\u001b[0;31m    for i float thistuple:\u001b[0m\n\u001b[0m          ^\u001b[0m\n\u001b[0;31mSyntaxError\u001b[0m\u001b[0;31m:\u001b[0m invalid syntax\n"
     ]
    }
   ],
   "source": [
    "thistuple = (6.9,2.1,2.0)\n",
    "def calc(thistuple):\n",
    "    d = ()\n",
    "    k=0\n",
    "    for i float thistuple:\n",
    "        if k<i:\n",
    "            d[k]=i\n",
    "            k+=1\n",
    "    print(d)\n",
    "calc(thistuple)"
   ]
  },
  {
   "cell_type": "code",
   "execution_count": 181,
   "id": "679d9436-8a00-4812-ba86-18b6f0b0326c",
   "metadata": {},
   "outputs": [
    {
     "name": "stdout",
     "output_type": "stream",
     "text": [
      "start\n",
      "s\n",
      "sentence\n"
     ]
    }
   ],
   "source": [
    "st = 'Print only the words that start with s in this sentence'\n",
    "new=st.split()\n",
    "for i in new:\n",
    "    if i[0]==\"s\":\n",
    "        print(i)\n",
    "    "
   ]
  },
  {
   "cell_type": "code",
   "execution_count": 187,
   "id": "1321b748-d0de-457e-81e9-4e69bfe71ffd",
   "metadata": {},
   "outputs": [
    {
     "name": "stdout",
     "output_type": "stream",
     "text": [
      "0\n",
      "2\n",
      "4\n",
      "6\n",
      "8\n"
     ]
    }
   ],
   "source": [
    "for i in range(0,10,2):\n",
    "    print(i)"
   ]
  },
  {
   "cell_type": "code",
   "execution_count": 195,
   "id": "bde4d4c4-86d5-4f1a-8a38-205d10a8fc69",
   "metadata": {},
   "outputs": [
    {
     "name": "stdout",
     "output_type": "stream",
     "text": [
      "[3, 6, 9, 12, 15, 18, 21, 24, 27, 30, 33, 36, 39, 42, 45, 48]\n"
     ]
    }
   ],
   "source": [
    "x = range(1,51)\n",
    "lis=[]\n",
    "for i in range(1,51):\n",
    "    if i %3==0:\n",
    "        lis.append(i)\n",
    "\n",
    "print(lis)"
   ]
  },
  {
   "cell_type": "code",
   "execution_count": 207,
   "id": "668a7153-89c6-4783-9eec-abc09353ce44",
   "metadata": {},
   "outputs": [
    {
     "name": "stdout",
     "output_type": "stream",
     "text": [
      "word\n",
      "in\n",
      "this\n",
      "sentence\n",
      "that\n",
      "an\n",
      "even\n",
      "number\n",
      "of\n"
     ]
    }
   ],
   "source": [
    "st = 'Print every word in this sentence that has an even number of letters'\n",
    "new=st.split()\n",
    "for i in new:\n",
    "    if len(i) % 2==0:\n",
    "        print(i)"
   ]
  },
  {
   "cell_type": "code",
   "execution_count": 219,
   "id": "5d52fcd6-f02f-4c6a-a1b8-604799bfb149",
   "metadata": {},
   "outputs": [
    {
     "name": "stdout",
     "output_type": "stream",
     "text": [
      "C\n",
      "a\n",
      "l\n",
      "o\n",
      "t\n",
      "f\n",
      "l\n",
      "o\n",
      "e\n",
      "w\n",
      "i\n",
      "t\n",
      "s\n"
     ]
    }
   ],
   "source": [
    "\n",
    "\n",
    "st = 'Create a list of the first letters of every word in this string'\n",
    "new=st.split()\n",
    "for i in new:\n",
    "    k=i[0]\n",
    "    print(k)\n",
    "    "
   ]
  },
  {
   "cell_type": "code",
   "execution_count": 221,
   "id": "f7808320-095d-4eaf-ba12-1001abc0a857",
   "metadata": {},
   "outputs": [
    {
     "name": "stdout",
     "output_type": "stream",
     "text": [
      "Fizz\n",
      "Buzz\n",
      "Fizz\n",
      "Fizz\n",
      "Buzz\n",
      "Fizz\n",
      "FizzBuzz\n",
      "Fizz\n",
      "Buzz\n",
      "Fizz\n",
      "Buzz\n",
      "Fizz\n",
      "Fizz\n",
      "Buzz\n",
      "Fizz\n",
      "FizzBuzz\n",
      "Fizz\n",
      "Buzz\n",
      "Fizz\n",
      "Buzz\n",
      "Fizz\n",
      "Fizz\n",
      "Buzz\n",
      "Fizz\n",
      "FizzBuzz\n",
      "Fizz\n",
      "Buzz\n",
      "Fizz\n",
      "Buzz\n",
      "Fizz\n",
      "Fizz\n",
      "Buzz\n",
      "Fizz\n",
      "FizzBuzz\n",
      "Fizz\n",
      "Buzz\n",
      "Fizz\n",
      "Buzz\n",
      "Fizz\n",
      "Fizz\n",
      "Buzz\n",
      "Fizz\n",
      "FizzBuzz\n",
      "Fizz\n",
      "Buzz\n",
      "Fizz\n",
      "Buzz\n",
      "Fizz\n",
      "Fizz\n",
      "Buzz\n",
      "Fizz\n",
      "FizzBuzz\n",
      "Fizz\n",
      "Buzz\n",
      "Fizz\n",
      "Buzz\n",
      "Fizz\n",
      "Fizz\n",
      "Buzz\n"
     ]
    }
   ],
   "source": [
    "\n",
    "    \n",
    "for i in range(1,101):\n",
    "    if i %3==0 and i%5==0:\n",
    "        print(\"FizzBuzz\")\n",
    "    if i %3==0:\n",
    "        print(\"Fizz\")\n",
    "    if i%5==0:\n",
    "        print(\"Buzz\")"
   ]
  },
  {
   "cell_type": "code",
   "execution_count": null,
   "id": "661340f0-28db-4a24-bc4f-355acb76453b",
   "metadata": {},
   "outputs": [],
   "source": []
  }
 ],
 "metadata": {
  "kernelspec": {
   "display_name": "anaconda-2022.05-py39",
   "language": "python",
   "name": "conda-env-anaconda-2022.05-py39-py"
  },
  "language_info": {
   "codemirror_mode": {
    "name": "ipython",
    "version": 3
   },
   "file_extension": ".py",
   "mimetype": "text/x-python",
   "name": "python",
   "nbconvert_exporter": "python",
   "pygments_lexer": "ipython3",
   "version": "3.9.12"
  }
 },
 "nbformat": 4,
 "nbformat_minor": 5
}
